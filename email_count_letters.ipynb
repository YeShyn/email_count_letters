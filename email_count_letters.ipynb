{
 "cells": [
  {
   "cell_type": "markdown",
   "metadata": {},
   "source": [
    "#### credentials"
   ]
  },
  {
   "cell_type": "code",
   "execution_count": null,
   "metadata": {},
   "outputs": [],
   "source": [
    "IMAP_SERVER = 'imap.gmail.com'\n",
    "EMAIL_ACCOUNT = 'youremail@gmail.com' #your email\n",
    "PASSWORD = 'xxxx xxxx xxxx xxxx' # your_app_password. Create here (https://myaccount.google.com/apppasswords)\n",
    "COUNT_DAYS_AGO = 5"
   ]
  },
  {
   "cell_type": "code",
   "execution_count": null,
   "metadata": {},
   "outputs": [],
   "source": [
    "import imaplib\n",
    "import email\n",
    "from email.header import decode_header\n",
    "from collections import Counter\n",
    "from datetime import datetime, timedelta\n",
    "import ssl"
   ]
  },
  {
   "cell_type": "markdown",
   "metadata": {},
   "source": [
    "#### Functions"
   ]
  },
  {
   "cell_type": "code",
   "execution_count": null,
   "metadata": {},
   "outputs": [],
   "source": [
    "def connect_to_mail():\n",
    "    context = ssl.create_default_context()\n",
    "    mail = imaplib.IMAP4_SSL(IMAP_SERVER, ssl_context=context)\n",
    "    mail.login(EMAIL_ACCOUNT, PASSWORD)\n",
    "    mail.select('inbox')\n",
    "    return mail\n"
   ]
  },
  {
   "cell_type": "code",
   "execution_count": null,
   "metadata": {},
   "outputs": [],
   "source": [
    "def process_email(email_id, mail):\n",
    "    try:\n",
    "        result, msg_data = mail.fetch(email_id, '(RFC822)')\n",
    "        if result == 'OK':\n",
    "            raw_email = msg_data[0][1]\n",
    "            msg = email.message_from_bytes(raw_email)\n",
    "            \n",
    "            from_header = msg['From']\n",
    "            decoded_header = decode_header(from_header)\n",
    "            for decoded_string, charset in decoded_header:\n",
    "                if isinstance(decoded_string, bytes):\n",
    "                    charset = charset or 'utf-8'\n",
    "                    try:\n",
    "                        decoded_string = decoded_string.decode(charset)\n",
    "                    except LookupError:\n",
    "                        decoded_string = decoded_string.decode('utf-8', errors='ignore')\n",
    "                sender_email = email.utils.parseaddr(decoded_string)[1]\n",
    "                if sender_email:\n",
    "                    return sender_email\n",
    "    except imaplib.IMAP4.abort as e:\n",
    "        print(f\"Error fetching email {email_id}: {e}\")\n",
    "    except Exception as e:\n",
    "        print(f\"Unexpected error fetching email {email_id}: {e}\")\n",
    "    return None\n"
   ]
  },
  {
   "cell_type": "code",
   "execution_count": null,
   "metadata": {},
   "outputs": [],
   "source": [
    "def fetch_emails_since(mail, date_since):\n",
    "    result, data = mail.search(None, f'SINCE {date_since}')\n",
    "    if result == 'OK':\n",
    "        return data[0].split()\n",
    "    else:\n",
    "        print('Error searching emails')\n",
    "        return []"
   ]
  },
  {
   "cell_type": "markdown",
   "metadata": {},
   "source": [
    "#### Connect to the server"
   ]
  },
  {
   "cell_type": "code",
   "execution_count": null,
   "metadata": {},
   "outputs": [],
   "source": [
    "\n",
    "mail = connect_to_mail()"
   ]
  },
  {
   "cell_type": "markdown",
   "metadata": {},
   "source": [
    "#### Define the date to limit the email search (e.g., emails from COUNT_DAYS_AGO)"
   ]
  },
  {
   "cell_type": "code",
   "execution_count": null,
   "metadata": {},
   "outputs": [],
   "source": [
    "\n",
    "date_since = (datetime.now() - timedelta(days=COUNT_DAYS_AGO)).strftime(\"%d-%b-%Y\")\n"
   ]
  },
  {
   "cell_type": "markdown",
   "metadata": {},
   "source": [
    "#### Search for emails received after a certain date"
   ]
  },
  {
   "cell_type": "code",
   "execution_count": null,
   "metadata": {},
   "outputs": [],
   "source": [
    "\n",
    "email_ids = fetch_emails_since(mail, date_since)\n"
   ]
  },
  {
   "cell_type": "code",
   "execution_count": null,
   "metadata": {},
   "outputs": [],
   "source": [
    "senders = []"
   ]
  },
  {
   "cell_type": "markdown",
   "metadata": {},
   "source": [
    "#### Process each email"
   ]
  },
  {
   "cell_type": "code",
   "execution_count": null,
   "metadata": {},
   "outputs": [],
   "source": [
    "for email_id in email_ids:\n",
    "    sender_email = process_email(email_id, mail)\n",
    "    if sender_email:\n",
    "        senders.append(sender_email)"
   ]
  },
  {
   "cell_type": "markdown",
   "metadata": {},
   "source": [
    "#### Count the number of emails from each sender"
   ]
  },
  {
   "cell_type": "code",
   "execution_count": null,
   "metadata": {},
   "outputs": [],
   "source": [
    "\n",
    "sender_counts = Counter(senders)"
   ]
  },
  {
   "cell_type": "markdown",
   "metadata": {},
   "source": [
    "#### Display the results"
   ]
  },
  {
   "cell_type": "code",
   "execution_count": null,
   "metadata": {},
   "outputs": [],
   "source": [
    "\n",
    "for sender, count in sender_counts.items():\n",
    "    print(f'{sender}: {count} emails')\n",
    "# Close the connection\n",
    "mail.logout()"
   ]
  }
 ],
 "metadata": {
  "kernelspec": {
   "display_name": "base",
   "language": "python",
   "name": "python3"
  },
  "language_info": {
   "codemirror_mode": {
    "name": "ipython",
    "version": 3
   },
   "file_extension": ".py",
   "mimetype": "text/x-python",
   "name": "python",
   "nbconvert_exporter": "python",
   "pygments_lexer": "ipython3",
   "version": "3.11.7"
  }
 },
 "nbformat": 4,
 "nbformat_minor": 2
}
